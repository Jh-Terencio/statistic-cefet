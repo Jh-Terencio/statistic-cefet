{
  "nbformat": 4,
  "nbformat_minor": 0,
  "metadata": {
    "colab": {
      "provenance": []
    },
    "kernelspec": {
      "name": "python3",
      "display_name": "Python 3"
    },
    "language_info": {
      "name": "python"
    }
  },
  "cells": [
    {
      "cell_type": "markdown",
      "source": [
        "# Exercícios de revisão - Distribuições de Probabilidades Discretas"
      ],
      "metadata": {
        "id": "2OvCiUBAkE4F"
      }
    },
    {
      "cell_type": "code",
      "execution_count": 1,
      "metadata": {
        "id": "ArnS1mG1jz_o"
      },
      "outputs": [],
      "source": [
        "import scipy.stats as ss"
      ]
    },
    {
      "cell_type": "markdown",
      "source": [
        "## 1. Sobre a distribuição binomial, responda:"
      ],
      "metadata": {
        "id": "Lk1h5oL-kUMo"
      }
    },
    {
      "cell_type": "markdown",
      "source": [
        "  a) Estabeleça as condições exigidas para se aplicar a distribuição binomial.\n",
        "\n",
        "$$\n",
        "P(X = k) = \\binom{n}{k} p^k (1-p)^{n-k}\n",
        "$$\n",
        "\n",
        "onde:\n",
        "\n",
        "- $P(X = k)$ é a probabilidade de ocorrerem exatamente $k$ sucessos em $n$ ensaios.\n",
        "- $\\binom{n}{k}$ é o coeficiente binomial, calculado como $\\frac{n!}{k!(n-k)!}$, representando o número de maneiras de escolher $k$ sucessos em $n$ ensaios.\n",
        "- $p$ é a probabilidade de sucesso em cada ensaio.\n",
        "- $k$ é o número de sucessos desejado.\n",
        "- $n$ é o número total de ensaios.\n",
        "- $1-p$ é a probabilidade de falha em cada ensaio.\n",
        "\n"
      ],
      "metadata": {
        "id": "-oQoqOVhkIAH"
      }
    },
    {
      "cell_type": "markdown",
      "source": [
        "**Resposta:**\n",
        "- O `p (prob. de sucesso)` deve ser constante em todas as tentativas\n",
        "- Os valores resultantes são mutuamente exclusivos"
      ],
      "metadata": {
        "id": "j00vFNwDkWq7"
      }
    },
    {
      "cell_type": "markdown",
      "source": [
        "  b) Qual é a probabilidade de 3 caras em 5 lançamentos de uma moeda honesta?\n",
        "\n",
        "  A função binom.pmf é usada para calcular a função massa de probabilidade (PMF, do inglês \"Probability Mass Function\") de uma distribuição binomial.\n",
        "\n",
        "  A função binom.pmf(k, n, p) calcula a probabilidade de ocorrer exatamente k sucessos em n ensaios de um experimento de Bernoulli, onde p é a probabilidade de sucesso em cada ensaio."
      ],
      "metadata": {
        "id": "9vm9cVZekPP7"
      }
    },
    {
      "cell_type": "code",
      "source": [
        "print(f\"A probabilidade de 3 caras em 5 lançamentos de uma moeda honesta é {round((ss.binom.pmf(3, 5, 0.5) * 100) , 2)}%\")"
      ],
      "metadata": {
        "colab": {
          "base_uri": "https://localhost:8080/"
        },
        "id": "meoRnvmkj5-t",
        "outputId": "f8b24f30-3ad4-4fe8-9fbb-90f1ef2c72af"
      },
      "execution_count": 8,
      "outputs": [
        {
          "output_type": "stream",
          "name": "stdout",
          "text": [
            "A probabilidade de 3 caras em 5 lançamentos de uma moeda honesta é 31.25%\n"
          ]
        }
      ]
    },
    {
      "cell_type": "markdown",
      "source": [
        "  c) Qual é a probabilidade de menos que 3 caras em 5 lançamentos de uma moeda honesta?\n",
        "\n",
        "  A função binom.cdf é utilizada para calcular a função de distribuição acumulada (CDF, do inglês \"Cumulative Distribution Function\") de uma distribuição binomial.\n",
        "\n",
        "  A função binom.cdf(k, n, p) calcula a probabilidade acumulada de obter até k sucessos em n ensaios de um experimento de Bernoulli, onde p é a probabilidade de sucesso em cada ensaio."
      ],
      "metadata": {
        "id": "1QyC69welD5j"
      }
    },
    {
      "cell_type": "code",
      "source": [
        "print(f\"A probabilidade de menos que 3 caras em 5 lançamentos de uma moeda honesta é {round((ss.binom.cdf(2, 5, 0.5) * 100) , 2)}%\")"
      ],
      "metadata": {
        "colab": {
          "base_uri": "https://localhost:8080/"
        },
        "id": "Fz5w3RTClGXz",
        "outputId": "acf2665d-8d0c-4019-ee3a-83eccba6680c"
      },
      "execution_count": 10,
      "outputs": [
        {
          "output_type": "stream",
          "name": "stdout",
          "text": [
            "A probabilidade de menos que 3 caras em 5 lançamentos de uma moeda honesta é 50.0%\n"
          ]
        }
      ]
    },
    {
      "cell_type": "markdown",
      "source": [
        "## 2. Uma remessa de 800 estabilizadores de tensão é recebida pelo controle de qualidade de uma empresa. São inspecionados 20 aparelhos da remessa, que será aceita se ocorrer no máximo um defeituoso. Há 80 defeituosos no lote. Qual a probabilidade de o lote ser aceito?"
      ],
      "metadata": {
        "id": "OQPm-ok0moGa"
      }
    },
    {
      "cell_type": "markdown",
      "source": [
        "- k = {0, 1}\n",
        "- n = 20\n",
        "- p = 80/800 = 1/10\n",
        "\n",
        "\n",
        "$$\n",
        "Pr(x \\leq 1) = Pr(x = 0) + Pr(x = 1)\n",
        "$$"
      ],
      "metadata": {
        "id": "kAIJMIMJmt9F"
      }
    },
    {
      "cell_type": "code",
      "source": [
        "print(f\"A probabilidade do lote ser aceito é {round((ss.binom.cdf(1, 20, 0.1) * 100) , 2)}%\")"
      ],
      "metadata": {
        "colab": {
          "base_uri": "https://localhost:8080/"
        },
        "id": "Xtw7zyaUn9z4",
        "outputId": "69843344-77e2-45e3-9973-619c37ee1dd0"
      },
      "execution_count": 11,
      "outputs": [
        {
          "output_type": "stream",
          "name": "stdout",
          "text": [
            "A probabilidade de 3 caras em 5 lançamentos de uma moeda honesta é 39.17%\n"
          ]
        }
      ]
    },
    {
      "cell_type": "markdown",
      "source": [
        "## 3. Uma linha de produção está sendo analisada para efeito de controle da qualidade das peças produzidas. Tendo em vista o alto padrão requerido, a produção é interrompida para regulagem toda vez que uma peça defeituosa é observada. Se 0,01 é a probabilidade da peça ser defeituosa, determine a probabilidade de ocorrer uma peça defeituosa na 1ª peça produzida, na 2ª, na 5ª, na 10ª, na 20ª e na 40ª.\n",
        "\n",
        "A função massa de probabilidade (PMF) da distribuição geométrica é dada por:\n",
        "\n",
        "$$\n",
        "P(X = k) = (1 - p)^{k-1} p\n",
        "$$\n",
        "\n",
        "onde:\n",
        "\n",
        "- $P(X = k)$ é a probabilidade de que o primeiro sucesso ocorra no $k$-ésimo ensaio.\n",
        "- $p$ é a probabilidade de sucesso em cada ensaio.\n",
        "- $k$ é o número do ensaio onde ocorre o primeiro sucesso."
      ],
      "metadata": {
        "id": "OsemxIbZozUs"
      }
    },
    {
      "cell_type": "code",
      "source": [
        "print(f\"A probabilidade de ocorrer uma peça defeituosa na 1ª peça produzida é {round((ss.geom.pmf(1, 0.01) * 100) , 2)}%\")"
      ],
      "metadata": {
        "colab": {
          "base_uri": "https://localhost:8080/"
        },
        "outputId": "28151ced-dbdd-4943-fdca-7286b6e68917",
        "id": "jcpIfd56p_ww"
      },
      "execution_count": 14,
      "outputs": [
        {
          "output_type": "stream",
          "name": "stdout",
          "text": [
            "probabilidade de ocorrer uma peça defeituosa na 1ª peça produzida é 1.0%\n"
          ]
        }
      ]
    },
    {
      "cell_type": "code",
      "source": [
        "print(f\"A probabilidade de ocorrer uma peça defeituosa na 2ª peça produzida é {round((ss.geom.pmf(2, 0.01) * 100) , 2)}%\")"
      ],
      "metadata": {
        "colab": {
          "base_uri": "https://localhost:8080/"
        },
        "outputId": "b145b435-ad98-4965-c3c5-9de73aff4ca3",
        "id": "oZVrIyjpp_7J"
      },
      "execution_count": 13,
      "outputs": [
        {
          "output_type": "stream",
          "name": "stdout",
          "text": [
            "probabilidade de ocorrer uma peça defeituosa na 2ª peça produzida é 0.99%\n"
          ]
        }
      ]
    },
    {
      "cell_type": "code",
      "source": [
        "print(f\"A probabilidade de ocorrer uma peça defeituosa na 5ª peça produzida é {round((ss.geom.pmf(5, 0.01) * 100) , 2)}%\")"
      ],
      "metadata": {
        "colab": {
          "base_uri": "https://localhost:8080/"
        },
        "outputId": "92a218ad-a987-4d0a-b545-8ffc011dc61e",
        "id": "KgW2m1gqqBW2"
      },
      "execution_count": 15,
      "outputs": [
        {
          "output_type": "stream",
          "name": "stdout",
          "text": [
            "probabilidade de ocorrer uma peça defeituosa na 5ª peça produzida é 0.96%\n"
          ]
        }
      ]
    },
    {
      "cell_type": "code",
      "source": [
        "print(f\"A probabilidade de ocorrer uma peça defeituosa na 10ª peça produzida é {round((ss.geom.pmf(10, 0.01) * 100) , 2)}%\")"
      ],
      "metadata": {
        "colab": {
          "base_uri": "https://localhost:8080/"
        },
        "outputId": "f9647f76-0753-47b9-c058-464aefda1816",
        "id": "_-VdWIWTqBcw"
      },
      "execution_count": 16,
      "outputs": [
        {
          "output_type": "stream",
          "name": "stdout",
          "text": [
            "probabilidade de ocorrer uma peça defeituosa na 10ª peça produzida é 0.91%\n"
          ]
        }
      ]
    },
    {
      "cell_type": "code",
      "source": [
        "print(f\"A probabilidade de ocorrer uma peça defeituosa na 20ª peça produzida é {round((ss.geom.pmf(20, 0.01) * 100) , 2)}%\")"
      ],
      "metadata": {
        "colab": {
          "base_uri": "https://localhost:8080/"
        },
        "outputId": "add679f7-53ed-41fc-8054-b54cb8d4d3e9",
        "id": "TmsgbC23qBi0"
      },
      "execution_count": 17,
      "outputs": [
        {
          "output_type": "stream",
          "name": "stdout",
          "text": [
            "probabilidade de ocorrer uma peça defeituosa na 20ª peça produzida é 0.83%\n"
          ]
        }
      ]
    },
    {
      "cell_type": "code",
      "source": [
        "print(f\"A probabilidade de ocorrer uma peça defeituosa na 40ª peça produzida é {round((ss.geom.pmf(40, 0.01) * 100) , 2)}%\")"
      ],
      "metadata": {
        "colab": {
          "base_uri": "https://localhost:8080/"
        },
        "id": "nlS7Mg0wpNz9",
        "outputId": "3cc55856-b6fc-4045-cd39-8877903e0f56"
      },
      "execution_count": 19,
      "outputs": [
        {
          "output_type": "stream",
          "name": "stdout",
          "text": [
            "probabilidade de ocorrer uma peça defeituosa na 40ª peça produzida é 0.68%\n"
          ]
        }
      ]
    },
    {
      "cell_type": "markdown",
      "source": [
        "## 4. A emissão de partículas radioativas tem sido modelada através de uma distribuição de Poisson, com o valor do parâmetro dependendo da fonte utilizada. Suponha que o número de partículas alfa, emitidas por minuto, seja uma variável aleatória seguindo o modelo Poisson com parâmetro 5, isto é, a taxa média de ocorrências é de 5 emissões a cada minuto. Calcular a probabilidade de haver mais de 2 emissões em um minuto.\n",
        "\n",
        "A função massa de probabilidade (FMP) da distribuição de Poisson é dada por:\n",
        "\n",
        "$$\n",
        "P(X = k) = \\frac{\\lambda^k e^{-\\lambda}}{k!}\n",
        "$$\n",
        "\n",
        "onde:\n",
        "\n",
        "- $P(X = k)$ é a probabilidade de observar exatamente $k$ eventos em um intervalo de tempo ou espaço.\n",
        "- $\\lambda$ é a taxa média de ocorrência de eventos em um intervalo (também conhecida como parâmetro de Poisson).\n",
        "- $k$ é o número de eventos.\n",
        "- $e$ é a base do logaritmo natural, aproximadamente igual a 2.71828.\n",
        "- $k!$ é o fatorial de $k$.\n",
        "\n",
        "A distribuição de Poisson é frequentemente usada para modelar o número de eventos que ocorrem em um intervalo fixo de tempo ou espaço, quando esses eventos ocorrem com uma taxa média constante e independentemente do tempo desde o último evento."
      ],
      "metadata": {
        "id": "dwdS-yBorIC-"
      }
    },
    {
      "cell_type": "code",
      "source": [
        "print(f\"A probabilidade de haver mais de 2 emissões em um minuto é {round(((1-ss.poisson.cdf(2, 5)) * 100) , 2)}%\")"
      ],
      "metadata": {
        "colab": {
          "base_uri": "https://localhost:8080/"
        },
        "id": "sxBPPHCRrjsF",
        "outputId": "efbb9611-7de1-4b9e-fd93-d6f3b5bbd86d"
      },
      "execution_count": 23,
      "outputs": [
        {
          "output_type": "stream",
          "name": "stdout",
          "text": [
            "A probabilidade de haver mais de 2 emissões em um minuto é 87.53%\n"
          ]
        }
      ]
    },
    {
      "cell_type": "markdown",
      "source": [
        "## 5. Você é o gerente de uma loja e sabe que, fora do horário de pico, entram, em média, 6 clientes a cada 10 minutos. Qual a probabilidade de entrarem:\n"
      ],
      "metadata": {
        "id": "TVhRJGGjrKqm"
      }
    },
    {
      "cell_type": "markdown",
      "source": [
        "a) 6 clientes na loja em um período qualquer de 10 minutos fora do horário de pico?\n"
      ],
      "metadata": {
        "id": "eLAHa5sLrOmF"
      }
    },
    {
      "cell_type": "code",
      "source": [
        "print(f\"A probabilidade de entrarem 6 clientes na loja em um período qualquer de 10 minutos fora do horário de pico é {round((ss.poisson.pmf(6, 6) * 100) , 2)}%\")"
      ],
      "metadata": {
        "colab": {
          "base_uri": "https://localhost:8080/"
        },
        "id": "uovhyIbF0zCg",
        "outputId": "2c27c475-25d1-4bdf-e130-0563325d34b2"
      },
      "execution_count": 25,
      "outputs": [
        {
          "output_type": "stream",
          "name": "stdout",
          "text": [
            "A probabilidade de entrarem 6 clientes na loja em um período qualquer de 10 minutos fora do horário de pico é 16.06%\n"
          ]
        }
      ]
    },
    {
      "cell_type": "markdown",
      "source": [
        "b) até 2 clientes num período de 10 minutos fora do horário de pico?\n",
        "\n",
        "$$\n",
        "P(X \\leq 2) = P(X = 0) + P(X = 1) + P(X = 2)\n",
        "$$"
      ],
      "metadata": {
        "id": "wrz9K9_2rQzt"
      }
    },
    {
      "cell_type": "code",
      "source": [
        "print(f\"A probabilidade de entrarem 6 clientes na loja em um período qualquer de 10 minutos fora do horário de pico é {round((ss.poisson.cdf(2, 6) * 100) , 2)}%\")"
      ],
      "metadata": {
        "colab": {
          "base_uri": "https://localhost:8080/"
        },
        "id": "TUbdxnwd1MVg",
        "outputId": "7351bf71-9819-445a-ee9a-5b6a60a7acba"
      },
      "execution_count": 26,
      "outputs": [
        {
          "output_type": "stream",
          "name": "stdout",
          "text": [
            "A probabilidade de entrarem 6 clientes na loja em um período qualquer de 10 minutos fora do horário de pico é 6.2%\n"
          ]
        }
      ]
    },
    {
      "cell_type": "markdown",
      "source": [
        "c) entrarem 3 clientes ou mais fora do horário de pico ao longo de 10 minutos?\n",
        "\n",
        "$$\n",
        "P(X \\geq 3) = 1 - P(X < 3) = 1 - P(X \\leq 2)\n",
        "$$"
      ],
      "metadata": {
        "id": "7Xguie-CrSUG"
      }
    },
    {
      "cell_type": "code",
      "source": [
        "print(f\"A probabilidade de entrarem 6 clientes na loja em um período qualquer de 10 minutos fora do horário de pico é {round(((1-ss.poisson.cdf(2, 6)) * 100) , 2)}%\")"
      ],
      "metadata": {
        "colab": {
          "base_uri": "https://localhost:8080/"
        },
        "id": "N4G-UkSV1U86",
        "outputId": "24b12ab8-5b67-47eb-f497-6b2fe8490dd2"
      },
      "execution_count": 27,
      "outputs": [
        {
          "output_type": "stream",
          "name": "stdout",
          "text": [
            "A probabilidade de entrarem 6 clientes na loja em um período qualquer de 10 minutos fora do horário de pico é 93.8%\n"
          ]
        }
      ]
    }
  ]
}